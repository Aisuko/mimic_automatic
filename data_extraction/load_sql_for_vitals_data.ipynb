{
 "cells": [
  {
   "cell_type": "code",
   "execution_count": 1,
   "metadata": {},
   "outputs": [],
   "source": [
    "import numpy as np\n",
    "\n",
    "np_data=np.load('sql_for_vitals.npy')"
   ]
  },
  {
   "cell_type": "code",
   "execution_count": 3,
   "metadata": {},
   "outputs": [
    {
     "data": {
      "text/plain": [
       "(58976, 14)"
      ]
     },
     "execution_count": 3,
     "metadata": {},
     "output_type": "execute_result"
    }
   ],
   "source": [
    "np_data.shape"
   ]
  },
  {
   "cell_type": "code",
   "execution_count": 4,
   "metadata": {},
   "outputs": [],
   "source": [
    "data=np_data.tolist()"
   ]
  },
  {
   "cell_type": "code",
   "execution_count": 5,
   "metadata": {},
   "outputs": [
    {
     "data": {
      "text/plain": [
       "['SELECT charttime, valuenum FROM chartevents WHERE hadm_id = 100001 AND itemid IN (646,220277) ORDER BY charttime',\n",
       " 'SELECT charttime, valuenum FROM chartevents WHERE hadm_id = 100001 AND itemid IN (211,220045) ORDER BY charttime',\n",
       " 'SELECT charttime, valuenum FROM chartevents WHERE hadm_id = 100001 AND itemid IN (618,615,220210,224690) ORDER BY charttime',\n",
       " 'SELECT charttime, valuenum FROM chartevents WHERE hadm_id = 100001 AND itemid IN (51,442,455,6701,220179,220050) ORDER BY charttime',\n",
       " 'SELECT charttime, valuenum FROM chartevents WHERE hadm_id = 100001 AND itemid IN (8368,8440,8441,8555,220180,220051) ORDER BY charttime',\n",
       " 'SELECT charttime, valuenum FROM chartevents WHERE hadm_id = 100001 AND itemid IN (1817,228640) ORDER BY charttime',\n",
       " 'SELECT charttime, valuenum FROM chartevents WHERE hadm_id = 100001 AND itemid IN (223761,678) ORDER BY charttime',\n",
       " 'SELECT charttime, valuenum FROM chartevents WHERE hadm_id = 100001 AND itemid IN (223762,676) ORDER BY charttime',\n",
       " 'SELECT charttime, valuenum FROM chartevents WHERE hadm_id = 100001 AND itemid IN (198,226755,227013) ORDER BY charttime',\n",
       " 'SELECT charttime, valuenum FROM chartevents WHERE hadm_id = 100001 AND itemid IN (3348) ORDER BY charttime',\n",
       " 'SELECT charttime, valuenum FROM chartevents WHERE hadm_id = 100001 AND itemid IN (2981,3420,3422,223835) ORDER BY charttime',\n",
       " 'SELECT charttime, valuenum FROM chartevents WHERE hadm_id = 100001 AND itemid IN (807,811,1529,3745,3744,225664,220621,226537) ORDER BY charttime',\n",
       " 'SELECT charttime, valuenum FROM chartevents WHERE hadm_id = 100001 AND itemid IN (780,860,1126,1673,3839,4202,4753,6003,220274,220734,223830,228243) ORDER BY charttime',\n",
       " 'SELECT charttime, VALUE FROM outputevents WHERE hadm_id = 100001 AND itemid IN (43647,43053,43171,43173,43333,43347,43348,43355,43365,43373,43374,43379,43380,43431,43519,43522,43537,43576,43583,43589,43638,43654,43811,43812,43856,44706,45304,227519) ORDER BY charttime']"
      ]
     },
     "execution_count": 5,
     "metadata": {},
     "output_type": "execute_result"
    }
   ],
   "source": [
    "data[0]"
   ]
  }
 ],
 "metadata": {
  "kernelspec": {
   "display_name": "Python 3",
   "language": "python",
   "name": "python3"
  },
  "language_info": {
   "codemirror_mode": {
    "name": "ipython",
    "version": 3
   },
   "file_extension": ".py",
   "mimetype": "text/x-python",
   "name": "python",
   "nbconvert_exporter": "python",
   "pygments_lexer": "ipython3",
   "version": "3.10.12"
  }
 },
 "nbformat": 4,
 "nbformat_minor": 2
}
