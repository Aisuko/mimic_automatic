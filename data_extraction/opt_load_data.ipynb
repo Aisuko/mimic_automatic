{
 "cells": [
  {
   "cell_type": "code",
   "execution_count": 1,
   "metadata": {},
   "outputs": [],
   "source": [
    "import pickle\n",
    "import psycopg2 as py\n",
    "\n",
    "conn = py.connect(\n",
    "    \"dbname = 'mimic' user = 'postgres' host = 'localhost' port='5432' password = 'p13240!'\")"
   ]
  },
  {
   "cell_type": "code",
   "execution_count": 2,
   "metadata": {},
   "outputs": [],
   "source": [
    "cur = conn.cursor()\n",
    "cur.execute(\"SET search_path TO mimiciii;\")"
   ]
  },
  {
   "cell_type": "code",
   "execution_count": 3,
   "metadata": {},
   "outputs": [],
   "source": [
    "cur.execute(\"\"\"select hadm_id from admissions\"\"\")\n",
    "list_adm_id = cur.fetchall()"
   ]
  },
  {
   "cell_type": "code",
   "execution_count": 4,
   "metadata": {},
   "outputs": [
    {
     "data": {
      "text/plain": [
       "58976"
      ]
     },
     "execution_count": 4,
     "metadata": {},
     "output_type": "execute_result"
    }
   ],
   "source": [
    "len(list_adm_id)"
   ]
  },
  {
   "cell_type": "code",
   "execution_count": null,
   "metadata": {},
   "outputs": [],
   "source": [
    "# Dictionary of vitals with itemid sets\n",
    "vital_itemids = {\n",
    "    \"SpO2\": [646, 220277],\n",
    "    \"HR\": [211, 220045],\n",
    "    \"RR\": [618, 615, 220210, 224690],\n",
    "    \"SBP\": [51, 442, 455, 6701, 220179, 220050],\n",
    "    \"DBP\": [8368, 8440, 8441, 8555, 220180, 220051],\n",
    "    \"EtCO2\": [1817, 228640],\n",
    "    \"Temp_F\": [223761, 678],\n",
    "    \"Temp_C\": [223762, 676],\n",
    "    \"TGCS\": [198, 226755, 227013],\n",
    "    \"CRR\": [3348],\n",
    "    \"FiO2\": [2981, 3420, 3422, 223835],\n",
    "    \"Glucose\": [807, 811, 1529, 3745, 3744, 225664, 220621, 226537],\n",
    "    \"pH\": [780, 860, 1126, 1673, 3839, 4202, 4753, 6003, 220274, 220734, 223830, 228243],\n",
    "}\n",
    "\n",
    "# Urine output itemids as a separate set since it's fetched from outputevents\n",
    "urine_output_itemids = [\n",
    "    43647, 43053, 43171, 43173, 43333, 43347, 43348, 43355, 43365, \n",
    "    43373, 43374, 43379, 43380, 43431, 43519, 43522, 43537, 43576, \n",
    "    43583, 43589, 43638, 43654, 43811, 43812, 43856, 44706, 45304, 227519\n",
    "]\n",
    "\n",
    "data = []\n",
    "for id in range(len(list_adm_id)):\n",
    "    hadm_id = list_adm_id[id][0]\n",
    "    print(id, hadm_id)\n",
    "    vitals = []\n",
    "\n",
    "    # Loop through the vital itemids and execute a single query per vital type\n",
    "    for vital_name, itemids in vital_itemids.items():\n",
    "        itemid_str = ','.join(map(str, itemids))\n",
    "        cur.execute(f\"SELECT charttime, valuenum FROM chartevents WHERE hadm_id = %s AND itemid IN ({itemid_str}) ORDER BY charttime\", [hadm_id])\n",
    "        vitals.append(cur.fetchall())\n",
    "\n",
    "    # Fetch urine output from outputevents separately\n",
    "    urine_itemid_str = ','.join(map(str, urine_output_itemids))\n",
    "    cur.execute(f\"SELECT charttime, VALUE FROM outputevents WHERE hadm_id = %s AND itemid IN ({urine_itemid_str}) ORDER BY charttime\", [hadm_id])\n",
    "    vitals.append(cur.fetchall())\n",
    "\n",
    "    # Append the vitals for this admission ID to the main data list\n",
    "    data.append(vitals)\n"
   ]
  }
 ],
 "metadata": {
  "kernelspec": {
   "display_name": "Python 3",
   "language": "python",
   "name": "python3"
  },
  "language_info": {
   "codemirror_mode": {
    "name": "ipython",
    "version": 3
   },
   "file_extension": ".py",
   "mimetype": "text/x-python",
   "name": "python",
   "nbconvert_exporter": "python",
   "pygments_lexer": "ipython3",
   "version": "3.10.12"
  }
 },
 "nbformat": 4,
 "nbformat_minor": 2
}
