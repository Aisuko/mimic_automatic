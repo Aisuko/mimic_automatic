{
 "cells": [
  {
   "cell_type": "code",
   "execution_count": 21,
   "id": "c24e612e-a3f1-4980-ae30-3261dbd1b84f",
   "metadata": {},
   "outputs": [],
   "source": [
    "import boto3"
   ]
  },
  {
   "cell_type": "code",
   "execution_count": 2,
   "id": "284e9998-63e4-41fb-acc2-3358746409ce",
   "metadata": {},
   "outputs": [],
   "source": [
    "s3 = boto3.resource('s3')"
   ]
  },
  {
   "cell_type": "code",
   "execution_count": 5,
   "id": "ad3e015d-e12d-4ff2-b671-acab8fcae4c6",
   "metadata": {},
   "outputs": [],
   "source": [
    "bucket = s3.Bucket('race-rmit-hackathon-sagemaker')"
   ]
  },
  {
   "cell_type": "code",
   "execution_count": 28,
   "id": "625b7098-59dc-4321-a52e-03effb490177",
   "metadata": {},
   "outputs": [],
   "source": [
    "!mkdir mimic_iii"
   ]
  },
  {
   "cell_type": "code",
   "execution_count": 29,
   "id": "021c3f23-abac-4c2c-b1bc-9f182a4ad008",
   "metadata": {},
   "outputs": [
    {
     "name": "stderr",
     "output_type": "stream",
     "text": [
      "Downloading files: 32it [00:40,  1.28s/it]\n"
     ]
    }
   ],
   "source": [
    "from tqdm import tqdm\n",
    "\n",
    "# Assuming `bucket.objects.all()` returns an iterable of files\n",
    "files = bucket.objects.all()\n",
    "\n",
    "# Wrap the iterable with tqdm to add a progress bar\n",
    "for file in tqdm(files, desc=\"Downloading files\"):\n",
    "    # Download the file and use its filename\n",
    "    filename = 'mimic_iii/'+file.key.split('/')[-1]\n",
    "    bucket.download_file(file.key, filename)"
   ]
  }
 ],
 "metadata": {
  "kernelspec": {
   "display_name": "Python 3 (ipykernel)",
   "language": "python",
   "name": "python3"
  },
  "language_info": {
   "codemirror_mode": {
    "name": "ipython",
    "version": 3
   },
   "file_extension": ".py",
   "mimetype": "text/x-python",
   "name": "python",
   "nbconvert_exporter": "python",
   "pygments_lexer": "ipython3",
   "version": "3.10.14"
  }
 },
 "nbformat": 4,
 "nbformat_minor": 5
}
